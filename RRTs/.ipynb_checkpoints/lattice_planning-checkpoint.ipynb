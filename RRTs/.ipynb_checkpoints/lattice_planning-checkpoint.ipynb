{
 "cells": [
  {
   "cell_type": "code",
   "execution_count": 1,
   "metadata": {},
   "outputs": [],
   "source": [
    "import numpy as np\n",
    "import matplotlib.pyplot as plt\n",
    "from seaborn import despine\n",
    "# Assumes you have all your planners in file planners.py\n",
    "from planners import BreadthFirst, DepthFirst, Dijkstra, Astar, BestFirst  \n",
    "from world import BoxWorld\n",
    "from motionprimitives import MotionPrimitives\n",
    "import os"
   ]
  },
  {
   "cell_type": "code",
   "execution_count": 2,
   "metadata": {},
   "outputs": [
    {
     "name": "stdout",
     "output_type": "stream",
     "text": [
      "Using matplotlib backend: TkAgg\n"
     ]
    }
   ],
   "source": [
    "%matplotlib"
   ]
  },
  {
   "cell_type": "markdown",
   "metadata": {},
   "source": [
    "# Motion primitives"
   ]
  },
  {
   "cell_type": "markdown",
   "metadata": {},
   "source": [
    "Run CasADi to pre-compute all motion primitives and save results in a file for later re-use."
   ]
  },
  {
   "cell_type": "code",
   "execution_count": 3,
   "metadata": {},
   "outputs": [
    {
     "name": "stdout",
     "output_type": "stream",
     "text": [
      "Read motion primitives from file mprims.pickle\n"
     ]
    }
   ],
   "source": [
    "file_name = 'mprims.pickle'\n",
    "if os.path.exists(file_name):\n",
    "    m = MotionPrimitives(file_name)\n",
    "    print('Read motion primitives from file {}'.format(file_name))\n",
    "else:\n",
    "    m = MotionPrimitives()\n",
    "    \n",
    "    # Define the initial states and desired goal states for the motion\n",
    "    # primitives\n",
    "    theta_init = np.array([0, np.pi/4, np.pi/2, 3*np.pi/4, np.pi, -3*np.pi/4, -np.pi/2, -np.pi/4])\n",
    "\n",
    "    x_vec = np.array([3, 2, 3, 3, 3, 1, 3, 3, 3, 2, 3])\n",
    "    y_vec = np.array([2, 2, 2, 1, 1, 0, -1, -1, -2, -2, -2])\n",
    "    th_vec = np.array([0, np.pi/4, np.pi/2, 0, np.pi/4, 0, -np.pi/4, 0, -np.pi/2, -np.pi/4, 0])\n",
    "    lattice = np.column_stack((x_vec, y_vec, th_vec))\n",
    "\n",
    "    L = 1.5\n",
    "    v = 10\n",
    "    u_max = np.pi/4\n",
    "    m.generate_primitives(theta_init, lattice, L, v, u_max)\n",
    "    m.save(file_name)"
   ]
  },
  {
   "cell_type": "markdown",
   "metadata": {},
   "source": [
    "Plot all motion primitives"
   ]
  },
  {
   "cell_type": "code",
   "execution_count": 4,
   "metadata": {},
   "outputs": [],
   "source": [
    "plt.figure(10, clear=True)\n",
    "m.plot('b', lw=0.5)\n",
    "plt.xlabel('x [m]')\n",
    "plt.ylabel('y [m]')\n",
    "plt.title('Motion primitives')\n",
    "despine()"
   ]
  },
  {
   "cell_type": "markdown",
   "metadata": {},
   "source": [
    "# Define state-transition function\n",
    "Finalize the World class by defining the state transition function, which is an abstract medthod in the base class."
   ]
  },
  {
   "cell_type": "code",
   "execution_count": 6,
   "metadata": {},
   "outputs": [],
   "source": [
    "def next_state(x, world, mp, tol=10**-5):\n",
    "    \"\"\"Define state-transition function for use with graph search planners\n",
    "    \n",
    "    Input arguments:\n",
    "        x - current state\n",
    "        world - description of the map of the world\n",
    "                using the class BoxWorld\n",
    "        mp - object with motion primitives of the class MotionPrimitives\n",
    "        tol - tolerance for comparison of closeness of states\n",
    "    \n",
    "    Output arguments:\n",
    "        xi - 3 x N matrix containing the possible next states from current \n",
    "              state x, considering the obstacles and size of the world model\n",
    "        u - N x 2 matrix with the indices of the motion primitives used for\n",
    "            reaching each state (row in u corresponds to column in xi)\n",
    "        d - 1 x N vector with the cost associated with each possible \n",
    "            transition in xi     \n",
    "    \"\"\"\n",
    "    state_i = world.st_sp[:, x]\n",
    "    theta_i = state_i[2]\n",
    "    mprims = mp.mprims\n",
    "    th = mp.th\n",
    "\n",
    "    # Everything below this line is written by the student\n",
    "    k = np.argwhere(np.abs((th - theta_i) % (2*np.pi)) < tol)[0][0]\n",
    "    xi = []\n",
    "    d = []\n",
    "    u = []\n",
    "    for j, mpi in enumerate(mprims[k]):\n",
    "        state_next = state_i + [mpi['x'][-1], mpi['y'][-1], 0]\n",
    "        state_next[2] = mpi['th'][-1]\n",
    "\n",
    "        p = np.row_stack((mpi['x'], mpi['y'])) + state_i[0:2, None]\n",
    "        if not world.in_bound(state_next) or not world.ObstacleFree(p):\n",
    "            continue\n",
    "        else:\n",
    "            next_idx = np.argmin(np.sum((world.st_sp - state_next[:, None])**2, axis=0))                \n",
    "            xi.append(next_idx)\n",
    "            d.append(mpi['ds'])\n",
    "            u.append([k, j])\n",
    "    return (xi, u, d)"
   ]
  },
  {
   "cell_type": "markdown",
   "metadata": {},
   "source": [
    "# Define the planning world"
   ]
  },
  {
   "cell_type": "markdown",
   "metadata": {},
   "source": [
    "Define world with obstacles."
   ]
  },
  {
   "cell_type": "code",
   "execution_count": 7,
   "metadata": {},
   "outputs": [],
   "source": [
    "xx = np.arange(-2, 13)\n",
    "yy = np.arange(-2, 13)\n",
    "th = np.array([0, np.pi/4, np.pi/2, 3*np.pi/4, np.pi, -3*np.pi/4, -np.pi/2, -np.pi/4])\n",
    "\n",
    "world = BoxWorld((xx, yy, th))\n",
    "world.add_box(2, 2, 6, 6)\n",
    "world.add_box(1, 6, 4, 3)\n",
    "world.add_box(4, 1, 5, 4)\n",
    "\n",
    "plt.figure(10, clear=True)\n",
    "world.draw()\n",
    "plt.xlabel('x')\n",
    "plt.ylabel('y')\n",
    "plt.axis([world.xmin, world.xmax, world.ymin, world.ymax]);"
   ]
  },
  {
   "cell_type": "markdown",
   "metadata": {},
   "source": [
    "# Run planners"
   ]
  },
  {
   "cell_type": "markdown",
   "metadata": {},
   "source": [
    "Define motion primitives, lattice world, and add single obstacle box."
   ]
  },
  {
   "cell_type": "markdown",
   "metadata": {},
   "source": [
    "Define cost-to-go heuristic and next state function for planner."
   ]
  },
  {
   "cell_type": "code",
   "execution_count": 10,
   "metadata": {},
   "outputs": [],
   "source": [
    "cost_to_go = lambda x, xg: np.linalg.norm(world.st_sp[0:2, x] - world.st_sp[0:2, xg])"
   ]
  },
  {
   "cell_type": "markdown",
   "metadata": {},
   "source": [
    "Define mission"
   ]
  },
  {
   "cell_type": "code",
   "execution_count": 12,
   "metadata": {},
   "outputs": [],
   "source": [
    "start = [0, 0, 0]  # Initial state\n",
    "goal = [10, 10, 2 * np.pi / 4] # Final state\n",
    "mission = {'start': {'id': np.argmin(np.sum((world.st_sp - np.array(start)[:, None])**2, axis=0))},\n",
    "           'goal': {'id': np.argmin(np.sum((world.st_sp - np.array(goal)[:, None])**2, axis=0))}}\n",
    "\n",
    "n = world.num_nodes()"
   ]
  },
  {
   "cell_type": "markdown",
   "metadata": {},
   "source": [
    "Plan using all planners"
   ]
  },
  {
   "cell_type": "code",
   "execution_count": null,
   "metadata": {},
   "outputs": [],
   "source": [
    "res = []\n",
    "for planner in [BreadthFirst, DepthFirst, Dijkstra, Astar, BestFirst]:\n",
    "    print('.', end='')    \n",
    "    res.append(planner(n, mission, lambda x: next_state(x, world, m),\n",
    "                       heuristic=cost_to_go, num_controls=2))\n",
    "print('Finished!')"
   ]
  }
 ],
 "metadata": {
  "kernelspec": {
   "display_name": "Python 3",
   "language": "python",
   "name": "python3"
  },
  "language_info": {
   "codemirror_mode": {
    "name": "ipython",
    "version": 3
   },
   "file_extension": ".py",
   "mimetype": "text/x-python",
   "name": "python",
   "nbconvert_exporter": "python",
   "pygments_lexer": "ipython3",
   "version": "3.8.5"
  }
 },
 "nbformat": 4,
 "nbformat_minor": 4
}
