{
 "cells": [
  {
   "cell_type": "code",
   "execution_count": 1,
   "metadata": {},
   "outputs": [],
   "source": [
    "import numpy as np\n",
    "import matplotlib.pyplot as plt\n",
    "from misc import Timer\n",
    "from world import BoxWorld"
   ]
  },
  {
   "cell_type": "code",
   "execution_count": 2,
   "metadata": {},
   "outputs": [
    {
     "name": "stdout",
     "output_type": "stream",
     "text": [
      "Using matplotlib backend: TkAgg\n"
     ]
    }
   ],
   "source": [
    "%matplotlib"
   ]
  },
  {
   "cell_type": "markdown",
   "metadata": {},
   "source": [
    "# Define the planning world"
   ]
  },
  {
   "cell_type": "markdown",
   "metadata": {},
   "source": [
    "Define the world with some obstacles"
   ]
  },
  {
   "cell_type": "code",
   "execution_count": 3,
   "metadata": {},
   "outputs": [],
   "source": [
    "world = BoxWorld([[0, 10], [0, 10]])\n",
    "world.add_box(2, 2, 6, 6)\n",
    "world.add_box(1, 6, 4, 3)\n",
    "world.add_box(4, 1, 5, 4)\n",
    "\n",
    "plt.figure(10, clear=True)\n",
    "world.draw()\n",
    "plt.xlabel('x')\n",
    "plt.ylabel('y')\n",
    "plt.axis([world.xmin, world.xmax, world.ymin, world.ymax]);"
   ]
  },
  {
   "cell_type": "markdown",
   "metadata": {},
   "source": [
    "# Implementation of RRT"
   ]
  },
  {
   "cell_type": "markdown",
   "metadata": {},
   "source": [
    "Implementation of the RRT planning algorithm"
   ]
  },
  {
   "cell_type": "code",
   "execution_count": 4,
   "metadata": {},
   "outputs": [],
   "source": [
    "def rrt_particle(start, goal, w, opts):\n",
    "    \"\"\"RRT planner for particle moving in a 2D world\n",
    "    \n",
    "    Input arguments:\n",
    "        start - initial state\n",
    "        goal - desired goal state\n",
    "        world - description of the map of the world\n",
    "                using an object from the class BoxWorld\n",
    "        opts - structure with options for the RRT*\n",
    "\n",
    "    Output arguments:\n",
    "        goal_idx - index of the node closest to the desired goal state\n",
    "        nodes - 2 x N matrix with each column representing a state j\n",
    "                in the tree\n",
    "        parents - 1 x N vector with the node number for the parent of node j \n",
    "                  at element j in the vector (node number counted as column\n",
    "                  in the matrix nodes)\n",
    "        Tplan - the time taken for computing the plan        \n",
    "    \"\"\"\n",
    "    rg = np.random.default_rng()  # Get the random number generator\n",
    "    def SampleFree():\n",
    "        \"\"\"Sample a state x in the free state space\"\"\"\n",
    "\n",
    "        if rg.uniform(0, 1, 1) < opts['beta']:\n",
    "            return np.array(goal)\n",
    "        else:\n",
    "            foundRandom = False\n",
    "            while not foundRandom:\n",
    "                x = (rg.uniform(0, 1, 2) * [w.xmax - w.xmin, w.ymax - w.ymin] + \n",
    "                     [w.xmin, w.ymin])\n",
    "                if w.ObstacleFree(x[:, None]):\n",
    "                    foundRandom = True\n",
    "            return x\n",
    "\n",
    "    def Nearest(x):\n",
    "        \"\"\"Find index of state nearest to x in the matrix nodes\"\"\"        \n",
    "        idx = np.argmin(np.sum((nodes - x[:, None])**2, axis=0))\n",
    "        return idx\n",
    "    \n",
    "    def Steer(x1, x2):\n",
    "        \"\"\"Steer from x1 towards x2 with step size opts['delta']\n",
    "        \n",
    "        If the distance to x2 is less than opts['delta'], return\n",
    "        state x2.\n",
    "        \"\"\"        \n",
    "        \n",
    "        dx = np.linalg.norm(x2 - x1)\n",
    "        if dx < opts['delta']:\n",
    "            x_new = x2\n",
    "        else:\n",
    "            x_new = x1 + opts['delta'] * (x2 - x1) / dx\n",
    "        return x_new\n",
    "\n",
    "    \n",
    "    # Start time measurement and define variables for nodes and parents\n",
    "    T = Timer()\n",
    "    T.tic()\n",
    "    nodes = np.array(start).reshape((-1, 1))  # Make numpy column vector\n",
    "    parents = [0]\n",
    "\n",
    "    # YOUR CODE HERE\n",
    "    # \n",
    "    Tplan = T.toc()\n",
    "    idx_goal = np.argmin(np.sum((nodes - np.array(goal).reshape((-1, 1)))**2, axis=0))\n",
    "    \n",
    "    return idx_goal, nodes, parents, Tplan"
   ]
  },
  {
   "cell_type": "markdown",
   "metadata": {},
   "source": [
    "Run the planner"
   ]
  },
  {
   "cell_type": "code",
   "execution_count": 6,
   "metadata": {},
   "outputs": [
    {
     "name": "stdout",
     "output_type": "stream",
     "text": [
      "Planning ...\n",
      "Finished in 0.68 sek\n"
     ]
    }
   ],
   "source": [
    "start = np.array([1, 1])\n",
    "goal = np.array([9, 9])\n",
    "\n",
    "opts = {'beta': 0.05,  # Probability for selecting goal state as target state\n",
    "        'delta': 0.1,  # Step size\n",
    "        'eps': -0.01,  # Threshold for stopping the search\n",
    "        'K': 5000}     # Maximum number of iterations\n",
    "\n",
    "print('Planning ...')\n",
    "idx_goal, nodes, parents, T = rrt_particle(start, goal, world, opts)\n",
    "print('Finished in {:.2f} sek'.format(T))"
   ]
  },
  {
   "cell_type": "markdown",
   "metadata": {},
   "source": [
    "# Plots and analysis"
   ]
  },
  {
   "cell_type": "code",
   "execution_count": null,
   "metadata": {},
   "outputs": [],
   "source": []
  }
 ],
 "metadata": {
  "kernelspec": {
   "display_name": "Python 3",
   "language": "python",
   "name": "python3"
  },
  "language_info": {
   "codemirror_mode": {
    "name": "ipython",
    "version": 3
   },
   "file_extension": ".py",
   "mimetype": "text/x-python",
   "name": "python",
   "nbconvert_exporter": "python",
   "pygments_lexer": "ipython3",
   "version": "3.8.5"
  }
 },
 "nbformat": 4,
 "nbformat_minor": 4
}
