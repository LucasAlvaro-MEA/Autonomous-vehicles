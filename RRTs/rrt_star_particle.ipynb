{
 "cells": [
  {
   "cell_type": "code",
   "execution_count": null,
   "metadata": {},
   "outputs": [],
   "source": [
    "import numpy as np\n",
    "import matplotlib.pyplot as plt\n",
    "from misc import Timer\n",
    "from world import BoxWorld"
   ]
  },
  {
   "cell_type": "code",
   "execution_count": null,
   "metadata": {},
   "outputs": [],
   "source": [
    "%matplotlib"
   ]
  },
  {
   "cell_type": "markdown",
   "metadata": {},
   "source": [
    "# Define the planning world"
   ]
  },
  {
   "cell_type": "markdown",
   "metadata": {},
   "source": [
    "Define world with obstacles."
   ]
  },
  {
   "cell_type": "code",
   "execution_count": null,
   "metadata": {},
   "outputs": [],
   "source": [
    "w = BoxWorld([[0, 10], [0, 10]])\n",
    "w.add_box(2, 2, 6, 6)\n",
    "w.add_box(1, 6, 4, 3)\n",
    "w.add_box(4, 1, 5, 4)\n",
    "\n",
    "plt.figure(10, clear=True)\n",
    "w.draw()\n",
    "plt.axis([w.xmin, w.xmax, w.ymin, w.ymax]);"
   ]
  },
  {
   "cell_type": "markdown",
   "metadata": {},
   "source": [
    "# Implementation of RRT* planning algorithm"
   ]
  },
  {
   "cell_type": "code",
   "execution_count": 7,
   "metadata": {},
   "outputs": [],
   "source": [
    "def rrt_star_particle(start, goal, w, opts):\n",
    "    def SampleFree():\n",
    "        \"\"\"Sample a state x in the free state space\"\"\"\n",
    "        if np.random.uniform(0, 1, 1) < opts['beta']:\n",
    "            return goal\n",
    "        else:\n",
    "            foundRandom = False\n",
    "            while not foundRandom:\n",
    "                x = np.random.uniform(0, 1, 2)*[w.xmax-w.xmin, w.ymax-w.ymin] + [w.xmin, w.ymin]\n",
    "                if w.ObstacleFree(x[:, None]):\n",
    "                    foundRandom = True\n",
    "        return x\n",
    "\n",
    "    def Nearest(x):\n",
    "        \"\"\"Return index of state nearest to x in nodes\"\"\"\n",
    "        idx = np.argmin(np.sum((nodes-x[:, None])**2, axis=0))\n",
    "        return idx\n",
    "    \n",
    "    def Near(x, r):\n",
    "        \"\"\"Return the indices of the states in nodes within a neighborhood with radius r from state x\"\"\"\n",
    "        idx = np.where(np.sum((nodes-x[:, None])**2, axis=0) < r**2)\n",
    "        return idx[0]\n",
    "\n",
    "    def Steer(x1, x2):\n",
    "        \"\"\"Steering function for moving from x1 to x2\"\"\"\n",
    "        dx = np.linalg.norm(x2 - x1)\n",
    "        if dx < opts['delta']:\n",
    "            x_new = x2\n",
    "        else:\n",
    "            x_new = x1 + opts['delta']*(x2-x1)/dx\n",
    "        return x_new\n",
    "    \n",
    "    def ConnectMinCost(x_new, near_idx, idx_nearest, cost_nearest):\n",
    "        \"\"\"Connecting along a path from x_nearest to x_new with\n",
    "           minimum cost among the states in a neighborhood of x_nearest\n",
    "           described by the indices near_idx in nodes\"\"\"\n",
    "        \n",
    "        idx_min = idx_nearest\n",
    "        cost_min = cost_nearest\n",
    "\n",
    "        for idx_n in near_idx:\n",
    "            x_near = nodes[:, idx_n]\n",
    "\n",
    "            if (x_new[0] == x_near[0]) and (x_new[1] == x_near[1]):\n",
    "                p = x_new[:, None]\n",
    "            else:\n",
    "                p = np.row_stack((np.arange(x_near[0], x_new[0], (x_new[0] - x_near[0])/10),\n",
    "                                  np.arange(x_near[1], x_new[1], (x_new[1] - x_near[1])/10)))\n",
    "            cost_near = cost[idx_n] + np.linalg.norm(x_near - x_new)\n",
    "\n",
    "            if cost_near < cost_min and w.ObstacleFree(p):\n",
    "                cost_min = cost_near\n",
    "                idx_min = idx_n\n",
    "        return idx_min, cost_min\n",
    "\n",
    "    def RewireNeighborhood(x_new, near_idx, cost_min):\n",
    "        \"\"\"Function for (possible) rewiring of the nodes in the neighborhood\n",
    "           described by the indices near_idx on nodes via the new state x_new,\n",
    "           if a path with less cost could be found\"\"\"\n",
    "        for idx_n in near_idx:\n",
    "            x_near = nodes[:, idx_n]\n",
    "            \n",
    "            if (x_new[0] == x_near[0]) and (x_new[1] == x_near[1]):\n",
    "                p = x_new[:, None]\n",
    "            else:\n",
    "                p = np.row_stack((np.arange(x_near[0], x_new[0], (x_new[0] - x_near[0])/10),\n",
    "                                  np.arange(x_near[1], x_new[1], (x_new[1] - x_near[1])/10)))\n",
    "            cost_near = cost_min + np.linalg.norm(x_near - x_new)\n",
    "            if cost_near < cost[idx_n] and w.ObstacleFree(p):\n",
    "                parents[idx_n] = len(parents)-1\n",
    "                cost[idx_n] = cost_near\n",
    "    \n",
    "    # Start time measurement and define variables for nodes, parents, and \n",
    "    # associated cost\n",
    "    T = Timer()\n",
    "    T.tic()\n",
    "    nodes = start.reshape((-1, 1))\n",
    "    parents = np.array([0], dtype=np.int)\n",
    "    cost = np.array([0])\n",
    "    \n",
    "    # YOUR CODE HERE\n",
    "\n",
    "    \n",
    "    Tplan = T.toc()\n",
    "    return idx_goal, nodes, parents, Tplan"
   ]
  },
  {
   "cell_type": "code",
   "execution_count": null,
   "metadata": {},
   "outputs": [],
   "source": [
    "start = np.array([1, 1])\n",
    "goal = np.array([9, 9])\n",
    "\n",
    "opts = {'beta': 0.01,  # Probability for selecting goal state as target state\n",
    "        'delta': 0.1,  # Step size\n",
    "        'eps': -0.01,  # Threshold for stopping the search\n",
    "        'r_neighbor': 0.5,\n",
    "        'K': 10000}\n",
    "\n",
    "idx_goal, nodes, parents, T = rrt_star_particle(start, goal, w, opts)\n",
    "print(f'Finished in {T:.3f} sek')"
   ]
  }
 ],
 "metadata": {
  "kernelspec": {
   "display_name": "Python 3",
   "language": "python",
   "name": "python3"
  },
  "language_info": {
   "codemirror_mode": {
    "name": "ipython",
    "version": 3
   },
   "file_extension": ".py",
   "mimetype": "text/x-python",
   "name": "python",
   "nbconvert_exporter": "python",
   "pygments_lexer": "ipython3",
   "version": "3.8.5"
  }
 },
 "nbformat": 4,
 "nbformat_minor": 4
}
