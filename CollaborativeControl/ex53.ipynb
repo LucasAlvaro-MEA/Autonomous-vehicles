{
 "cells": [
  {
   "cell_type": "markdown",
   "metadata": {},
   "source": [
    "# TSFS12 Hand-in exercise 4: Collaborative control"
   ]
  },
  {
   "cell_type": "markdown",
   "metadata": {},
   "source": [
    "Initial imports"
   ]
  },
  {
   "cell_type": "code",
   "execution_count": 1,
   "metadata": {},
   "outputs": [],
   "source": [
    "import numpy as np\n",
    "import math\n",
    "from scipy.integrate import odeint\n",
    "import matplotlib.pyplot as plt\n",
    "import matplotlib.animation as animation\n",
    "from collab_functions import CreateAgent, multi_agent_ode, formation_measurement_index, formation_references"
   ]
  },
  {
   "cell_type": "markdown",
   "metadata": {},
   "source": [
    "Activate matplotlib for notebook. Plots must be in external windows due to animations."
   ]
  },
  {
   "cell_type": "code",
   "execution_count": 2,
   "metadata": {},
   "outputs": [
    {
     "name": "stdout",
     "output_type": "stream",
     "text": [
      "Using matplotlib backend: TkAgg\n"
     ]
    }
   ],
   "source": [
    "%matplotlib"
   ]
  },
  {
   "cell_type": "markdown",
   "metadata": {},
   "source": [
    "# Define agent dynamics, control, and measurement functions"
   ]
  },
  {
   "cell_type": "code",
   "execution_count": 3,
   "metadata": {},
   "outputs": [],
   "source": [
    "def f1(t, x, u, mdlpar):\n",
    "    \"\"\"Dynamic function for single integrator model\n",
    "    \n",
    "    Input arguments are:\n",
    "       t - time \n",
    "       x - state vector of the agent (position) \n",
    "       u - the control input u, \n",
    "       mdlpar - dictionary with parameters of the model \n",
    "    \n",
    "    Output:\n",
    "       dxdt - state-derivative\n",
    "    \"\"\"\n",
    "    return u\n",
    "\n",
    "def g1(y, xref, ctrlpar):\n",
    "    \"\"\"Control function\n",
    "    \n",
    "    Compute the control signal, in this case it is a P-controller which gives a control signal \n",
    "    proportional to the vector between the current position and the reference position. \n",
    "    \n",
    "    Input arguments:\n",
    "      y - measurement y, \n",
    "      xref - the reference vector xref (in this case the desired position of the agent)\n",
    "      ctrlpar - dictionary which contains parameters used by the controller (in this case the proportional gain k).\n",
    "\n",
    "    Output argument:\n",
    "      Control signal    \n",
    "    \"\"\"\n",
    "    \n",
    "    k = ctrlpar['k']\n",
    "    return k*(xref-y)\n",
    "\n",
    "def h1(x, measpar):\n",
    "    \"\"\"Measurement function\n",
    "\n",
    "     The measurement function gives the measurements available to the\n",
    "     agent. \n",
    "     \n",
    "     Input arguments:\n",
    "         x - the complete state vector of all agents in the multi-agent system\n",
    "         measpar - dictionary containing parameters used in the function. In\n",
    "                   this case the indices in the state vector x of the states measured by the\n",
    "                   agent stored in key idx.\n",
    "\n",
    "    Output:\n",
    "        y - The measurement vector\n",
    "    \"\"\"    \n",
    "    meas_idx = measpar['idx']\n",
    "    return x[meas_idx]\n",
    "\n",
    "def g4(y, xref, ctrlpar):\n",
    "\n",
    "    k = ctrlpar['k']\n",
    "    gamma_sum=np.array([0,0])   \n",
    "    cmpt=math.floor((len(xref)/2))\n",
    "    for i in range(cmpt-1):\n",
    "        gamma=(((y[2*i]-y[0])**2+(y[2*i+1]-y[1])**2)-((xref[2*i]-xref[0])**2+(xref[2*i+1]-xref[1])**2))\n",
    "        delta_pos=np.array([y[2*i]-y[0], y[2*i+1]-y[1]])\n",
    "        gamma_sum=gamma_sum+4*gamma*delta_pos\n",
    "    return k*gamma_sum"
   ]
  },
  {
   "cell_type": "markdown",
   "metadata": {},
   "source": [
    "# Create all agents"
   ]
  },
  {
   "cell_type": "markdown",
   "metadata": {},
   "source": [
    "Create all agents, specifying models, parameters, controllers, the measurement structure, and references for controllers."
   ]
  },
  {
   "cell_type": "code",
   "execution_count": 4,
   "metadata": {},
   "outputs": [],
   "source": [
    "modelparam = {'m': 1}\n",
    "controller = {'k': 1}\n",
    "controller_2 = {'k': 10}\n",
    "\n",
    "simple_formation_measurement_index = [{'idx': [0, 1]},\n",
    "                                      {'idx': [2, 3, 0, 1, 4, 5, 6, 7]},\n",
    "                                      {'idx': [4, 5, 0, 1, 2, 3, 6, 7, 8, 9]},\n",
    "                                      {'idx': [6, 7, 2, 3, 4, 5, 8, 9, 10, 11]},\n",
    "                                      {'idx': [8, 9, 4, 5, 6, 7,10, 11, 12, 13]},\n",
    "                                      {'idx': [10, 11, 6, 7, 8, 9 , 12, 13, 14, 15]},\n",
    "                                      {'idx': [12, 13, 8, 9, 10, 11, 14, 15]},\n",
    "                                      {'idx': [14, 15, 10, 11, 12, 13]}]\n",
    "\n",
    "simple_formation_references = [lambda t: [0+np.cos(-t), 6+np.sin(-t)],\n",
    "                               lambda t: [-1, 5, 0, 6, 1, 5, -1, 3],\n",
    "                               lambda t: [1, 5, 0, 6, -1, 5, -1, 3, 1, 3],\n",
    "                               lambda t: [-1, 3, -1, 5, 1, 5, 1, 3, -1, 1],\n",
    "                               lambda t: [1, 3, 1, 5, -1, 3, -1, 1, 1, 1],\n",
    "                               lambda t: [-1, 1, -1, 3, 1, 3, 1, 1, 0, 0],\n",
    "                               lambda t: [1, 1, 1, 3, -1, 1, 0, 0],\n",
    "                               lambda t: [0, 0, -1, 1, 1, 1]]\n",
    "\n",
    "agents = [\n",
    "    CreateAgent(f1, modelparam, g1, controller, h1, simple_formation_measurement_index[0], simple_formation_references[0]), \n",
    "    CreateAgent(f1, modelparam, g4, controller, h1, simple_formation_measurement_index[1], simple_formation_references[1]),\n",
    "    CreateAgent(f1, modelparam, g4, controller, h1, simple_formation_measurement_index[2], simple_formation_references[2]),\n",
    "    CreateAgent(f1, modelparam, g4, controller, h1, simple_formation_measurement_index[3], simple_formation_references[3]),\n",
    "    CreateAgent(f1, modelparam, g4, controller, h1, simple_formation_measurement_index[4], simple_formation_references[4]), \n",
    "    CreateAgent(f1, modelparam, g4, controller, h1, simple_formation_measurement_index[5], simple_formation_references[5]),\n",
    "    CreateAgent(f1, modelparam, g4, controller, h1, simple_formation_measurement_index[6], simple_formation_references[6]),\n",
    "    CreateAgent(f1, modelparam, g4, controller, h1, simple_formation_measurement_index[7], simple_formation_references[7])\n",
    "]\n",
    "n = 2  # Number of states"
   ]
  },
  {
   "cell_type": "markdown",
   "metadata": {},
   "source": [
    "# Simulate the multi-agent system"
   ]
  },
  {
   "cell_type": "markdown",
   "metadata": {},
   "source": [
    "This part should not need to be modified except specifying the initial state."
   ]
  },
  {
   "cell_type": "code",
   "execution_count": 5,
   "metadata": {},
   "outputs": [],
   "source": [
    "x0 = np.array([0, 6, -1, 5, 1, 5, -1, 3, 1, 3, -1, 1, 1, 1, 0, 0])\n",
    "t = np.arange(0, 10, 0.05)\n",
    "x = odeint(lambda x, t: multi_agent_ode(x, t, agents, n), x0, t)"
   ]
  },
  {
   "cell_type": "markdown",
   "metadata": {},
   "source": [
    "Animate the simulated agents."
   ]
  },
  {
   "cell_type": "code",
   "execution_count": 6,
   "metadata": {},
   "outputs": [],
   "source": [
    "fig = plt.figure(20, clear=True)\n",
    "plt.axis([-2, 6, -3, 6])\n",
    "\n",
    "m = tuple([plt.plot(np.nan, np.nan, 'bo')[0] for k in range(len(agents))])\n",
    "def animate(i):\n",
    "    for idx, mi in enumerate(m):\n",
    "        mi.set_xdata(x[i, 0 + n*idx])\n",
    "        mi.set_ydata(x[i, 1 + n*idx])\n",
    "    return m\n",
    "\n",
    "ani = animation.FuncAnimation(fig, animate, interval=1, frames=x.shape[0], blit=True, save_count=50, repeat=False)"
   ]
  },
  {
   "cell_type": "code",
   "execution_count": null,
   "metadata": {},
   "outputs": [],
   "source": []
  }
 ],
 "metadata": {
  "kernelspec": {
   "display_name": "Python 3",
   "language": "python",
   "name": "python3"
  },
  "language_info": {
   "codemirror_mode": {
    "name": "ipython",
    "version": 3
   },
   "file_extension": ".py",
   "mimetype": "text/x-python",
   "name": "python",
   "nbconvert_exporter": "python",
   "pygments_lexer": "ipython3",
   "version": "3.8.5"
  }
 },
 "nbformat": 4,
 "nbformat_minor": 4
}
