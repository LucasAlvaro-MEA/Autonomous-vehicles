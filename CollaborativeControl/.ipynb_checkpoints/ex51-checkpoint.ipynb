{
 "cells": [
  {
   "cell_type": "markdown",
   "metadata": {},
   "source": [
    "# TSFS12 Hand-in exercise 4: Collaborative control"
   ]
  },
  {
   "cell_type": "markdown",
   "metadata": {},
   "source": [
    "Initial imports"
   ]
  },
  {
   "cell_type": "code",
   "execution_count": 1,
   "metadata": {},
   "outputs": [],
   "source": [
    "import numpy as np\n",
    "from scipy.integrate import odeint\n",
    "import matplotlib.pyplot as plt\n",
    "import matplotlib.animation as animation\n",
    "from collab_functions import CreateAgent, multi_agent_ode, formation_measurement_index, formation_references"
   ]
  },
  {
   "cell_type": "markdown",
   "metadata": {},
   "source": [
    "Activate matplotlib for notebook. Plots must be in external windows due to animations."
   ]
  },
  {
   "cell_type": "code",
   "execution_count": 2,
   "metadata": {},
   "outputs": [
    {
     "name": "stdout",
     "output_type": "stream",
     "text": [
      "Using matplotlib backend: TkAgg\n"
     ]
    }
   ],
   "source": [
    "%matplotlib"
   ]
  },
  {
   "cell_type": "markdown",
   "metadata": {},
   "source": [
    "# Define agent dynamics, control, and measurement functions"
   ]
  },
  {
   "cell_type": "code",
   "execution_count": 3,
   "metadata": {},
   "outputs": [],
   "source": [
    "def f1(t, x, u, mdlpar):\n",
    "    \"\"\"Dynamic function for single integrator model\n",
    "    \n",
    "    Input arguments are:\n",
    "       t - time \n",
    "       x - state vector of the agent (position) \n",
    "       u - the control input u, \n",
    "       mdlpar - dictionary with parameters of the model \n",
    "    \n",
    "    Output:\n",
    "       dxdt - state-derivative\n",
    "    \"\"\"\n",
    "    return u\n",
    "\n",
    "def g1(y, xref, ctrlpar):\n",
    "    \"\"\"Control function\n",
    "    \n",
    "    Compute the control signal, in this case it is a P-controller which gives a control signal \n",
    "    proportional to the vector between the current position and the reference position. \n",
    "    \n",
    "    Input arguments:\n",
    "      y - measurement y, \n",
    "      xref - the reference vector xref (in this case the desired position of the agent)\n",
    "      ctrlpar - dictionary which contains parameters used by the controller (in this case the proportional gain k).\n",
    "\n",
    "    Output argument:\n",
    "      Control signal    \n",
    "    \"\"\"\n",
    "    \n",
    "    k = ctrlpar['k']\n",
    "    return k*(xref-y)\n",
    "\n",
    "def h1(x, measpar):\n",
    "    \"\"\"Measurement function\n",
    "\n",
    "     The measurement function gives the measurements available to the\n",
    "     agent. \n",
    "     \n",
    "     Input arguments:\n",
    "         x - the complete state vector of all agents in the multi-agent system\n",
    "         measpar - dictionary containing parameters used in the function. In\n",
    "                   this case the indices in the state vector x of the states measured by the\n",
    "                   agent stored in key idx.\n",
    "\n",
    "    Output:\n",
    "        y - The measurement vector\n",
    "    \"\"\"    \n",
    "    meas_idx = measpar['idx']\n",
    "    return x[meas_idx]"
   ]
  },
  {
   "cell_type": "markdown",
   "metadata": {},
   "source": [
    "Exercise 5.1"
   ]
  },
  {
   "cell_type": "code",
   "execution_count": 4,
   "metadata": {},
   "outputs": [],
   "source": [
    "def f2(t, x, u, mdlpar):\n",
    "    \"\"\"Dynamic function for double integrator model\n",
    "    \n",
    "    Input arguments are:\n",
    "       t - time \n",
    "       x - state vector of the agent (position) \n",
    "       u - the control input u, \n",
    "       mdlpar - dictionary with parameters of the model \n",
    "    \n",
    "    Output:\n",
    "       dxdt - state-derivative\n",
    "    \"\"\"\n",
    "    \n",
    "    A=[[0,0, 1, 0],[0, 0, 0, 1],[0, 0, 0, 0],[0, 0, 0, 0]]\n",
    "    B=[[0, 0],[0, 0],[1, 0],[0, 1]]\n",
    "    \n",
    "    Ax=np.matmul(A,x)\n",
    "    Bu=np.matmul(B,u)\n",
    "    dxdt=Ax+Bu\n",
    "    return dxdt\n",
    "\n",
    "def g2(y, xref, ctrlpar):\n",
    "    \"\"\"Control function\n",
    "    \n",
    "    Compute the control signal, in this case it is a P-controller which gives a control signal \n",
    "    proportional to the vector between the current position and the reference position. \n",
    "    \n",
    "    Input arguments:\n",
    "      y - measurement y, \n",
    "      xref - the reference vector xref (in this case the desired position of the agent)\n",
    "      ctrlpar - dictionary which contains parameters used by the controller (in this case the proportional gain k).\n",
    "\n",
    "    Output argument:\n",
    "      Control signal    \n",
    "    \"\"\"\n",
    "    \n",
    "    kp = ctrlpar['kp']\n",
    "    kv = ctrlpar['kv']\n",
    "    \n",
    "    return kp*(xref[0:2]-y[0:2])+kv*(xref[2:4]-y[2:4])\n",
    "\n",
    "def h2(x, measpar):\n",
    "    \"\"\"Measurement function\n",
    "\n",
    "     The measurement function gives the measurements available to the\n",
    "     agent. \n",
    "     \n",
    "     Input arguments:\n",
    "         x - the complete state vector of all agents in the multi-agent system\n",
    "         measpar - dictionary containing parameters used in the function. In\n",
    "                   this case the indices in the state vector x of the states measured by the\n",
    "                   agent stored in key idx.\n",
    "\n",
    "    Output:\n",
    "        y - The measurement vector\n",
    "    \"\"\"    \n",
    "    meas_idx = measpar['idx']\n",
    "    return x[meas_idx]"
   ]
  },
  {
   "cell_type": "markdown",
   "metadata": {},
   "source": [
    "Exercise 5.2"
   ]
  },
  {
   "cell_type": "code",
   "execution_count": null,
   "metadata": {},
   "outputs": [],
   "source": []
  },
  {
   "cell_type": "markdown",
   "metadata": {},
   "source": [
    "# Create all agents"
   ]
  },
  {
   "cell_type": "markdown",
   "metadata": {},
   "source": [
    "Create all agents, specifying models, parameters, controllers, the measurement structure, and references for controllers."
   ]
  },
  {
   "cell_type": "code",
   "execution_count": 5,
   "metadata": {},
   "outputs": [],
   "source": [
    "modelparam = {'m': 1}\n",
    "\n",
    "controller_1_di = {'kv': 10, 'kp' : 10}\n",
    "controller_2_di = {'kv': 1, 'kp' : 1}\n",
    "\n",
    "simple_formation_measurement_index = [{'idx': [0, 1]},\n",
    "                                      {'idx': [2, 3]},\n",
    "                                      {'idx': [4, 5]},\n",
    "                                      {'idx': [6, 7]}]\n",
    "\n",
    "simple_formation_references = [lambda t: [np.cos(2*t), np.sin(2*t)],\n",
    "                               lambda t: [2*np.cos(-t), 2*np.sin(-t)],\n",
    "                               lambda t: [3, 2],\n",
    "                               lambda t: [5, 4]]\n",
    "\n",
    "\n",
    "double_formation_measurement_index = [{'idx': [0, 1, 2, 3]},\n",
    "                                      {'idx': [4, 5, 6, 7]},\n",
    "                                      {'idx': [8, 9, 10, 11]},\n",
    "                                      {'idx': [12, 13, 14, 15]}]\n",
    "\n",
    "double_formation_references = [lambda t: [np.cos(2*t), np.sin(2*t), 0, 0],\n",
    "                               lambda t: [2*np.cos(-t), 2*np.sin(-t), 0, 0],\n",
    "                               lambda t: [3, 2, 0, 0],\n",
    "                               lambda t: [5, 4, 0, 0]]\n",
    "\n",
    "\n",
    "agents = [\n",
    "    CreateAgent(f2, modelparam, g2, controller_2_di, h2, double_formation_measurement_index[0], double_formation_references[0]), \n",
    "    CreateAgent(f2, modelparam, g2, controller_1_di, h2, double_formation_measurement_index[1], double_formation_references[1]),\n",
    "    CreateAgent(f2, modelparam, g2, controller_1_di, h2, double_formation_measurement_index[2], double_formation_references[2]),\n",
    "    CreateAgent(f2, modelparam, g2, controller_2_di, h2, double_formation_measurement_index[3], double_formation_references[3])\n",
    "]\n",
    "n = 4  # Number of states"
   ]
  },
  {
   "cell_type": "markdown",
   "metadata": {},
   "source": [
    "# Simulate the multi-agent system"
   ]
  },
  {
   "cell_type": "markdown",
   "metadata": {},
   "source": [
    "This part should not need to be modified except specifying the initial state."
   ]
  },
  {
   "cell_type": "code",
   "execution_count": 6,
   "metadata": {},
   "outputs": [],
   "source": [
    "x0 = np.array([1, 0, 2, 0, 3, 0, 4, 0, 0, 10, 0, 10, 0, 10, 0, 10])\n",
    "t = np.arange(0, 10, 0.05)\n",
    "x = odeint(lambda x, t: multi_agent_ode(x, t, agents, n), x0, t)"
   ]
  },
  {
   "cell_type": "markdown",
   "metadata": {},
   "source": [
    "Animate the simulated agents."
   ]
  },
  {
   "cell_type": "code",
   "execution_count": 7,
   "metadata": {},
   "outputs": [],
   "source": [
    "fig = plt.figure(20, clear=True)\n",
    "plt.axis([-2, 6, -3, 6])\n",
    "\n",
    "m = tuple([plt.plot(np.nan, np.nan, 'bo')[0] for k in range(len(agents))])\n",
    "def animate(i):\n",
    "    for idx, mi in enumerate(m):\n",
    "        mi.set_xdata(x[i, 0 + n*idx])\n",
    "        mi.set_ydata(x[i, 1 + n*idx])\n",
    "    return m\n",
    "\n",
    "ani = animation.FuncAnimation(fig, animate, interval=1, frames=x.shape[0], blit=True, save_count=50, repeat=False)"
   ]
  },
  {
   "cell_type": "code",
   "execution_count": null,
   "metadata": {},
   "outputs": [],
   "source": []
  }
 ],
 "metadata": {
  "kernelspec": {
   "display_name": "Python 3",
   "language": "python",
   "name": "python3"
  },
  "language_info": {
   "codemirror_mode": {
    "name": "ipython",
    "version": 3
   },
   "file_extension": ".py",
   "mimetype": "text/x-python",
   "name": "python",
   "nbconvert_exporter": "python",
   "pygments_lexer": "ipython3",
   "version": "3.8.5"
  }
 },
 "nbformat": 4,
 "nbformat_minor": 4
}
