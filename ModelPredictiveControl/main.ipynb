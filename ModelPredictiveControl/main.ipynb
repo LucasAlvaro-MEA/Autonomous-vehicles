{
 "cells": [
  {
   "cell_type": "markdown",
   "metadata": {},
   "source": [
    "# TSFS12 Hand-in exercise 3: Path following for autonomous vehicles\n",
    "Erik Frisk (erik.frisk@liu.se)"
   ]
  },
  {
   "cell_type": "code",
   "execution_count": 1,
   "metadata": {},
   "outputs": [],
   "source": [
    "import numpy as np\n",
    "import matplotlib.pyplot as plt\n",
    "from vehiclecontrol import ControllerBase, SingleTrackModel\n",
    "from splinepath import SplinePath\n",
    "from scipy.linalg import solve_continuous_are, solve_discrete_are\n",
    "from misc import Timer"
   ]
  },
  {
   "cell_type": "code",
   "execution_count": 2,
   "metadata": {},
   "outputs": [
    {
     "name": "stdout",
     "output_type": "stream",
     "text": [
      "Using matplotlib backend: TkAgg\n"
     ]
    }
   ],
   "source": [
    "%matplotlib"
   ]
  },
  {
   "cell_type": "markdown",
   "metadata": {},
   "source": [
    "# Make a simple controller and simulate vehicle"
   ]
  },
  {
   "cell_type": "code",
   "execution_count": 3,
   "metadata": {},
   "outputs": [],
   "source": [
    "class MiniController(ControllerBase):\n",
    "    def __init__(self):\n",
    "        super().__init__()\n",
    "    \n",
    "    def u(self, t, w):\n",
    "        a = 0.0\n",
    "        if t < 10:\n",
    "            u = [np.pi / 180 * 10, a]\n",
    "        elif t >= 10 and t < 20:\n",
    "            u = [-np.pi / 180 * 11, a]\n",
    "        elif t >= 20 and t < 23:\n",
    "            u = [-np.pi / 180 * 0, a]\n",
    "        elif t >= 23 and t < 40:\n",
    "            u = [-np.pi / 180 * 15, a]\n",
    "        else:\n",
    "            u = [-np.pi / 180 * 0, a]\n",
    "        return u\n",
    "\n",
    "opts = {'L': 2, \n",
    "        'amax': np.inf,\n",
    "        'amin': -np.inf,\n",
    "        'steer_limit': np.pi / 3}\n",
    "\n",
    "car = SingleTrackModel().set_attributes(opts)\n",
    "car.Ts = 0.1\n",
    "car.controller = MiniController()\n",
    "w0 = [0, 0, 0, 2]\n",
    "t = Timer()\n",
    "t.tic()\n",
    "z0 = car.simulate(w0, T=40, dt=0.1, t0=0.0)\n",
    "t.toc()\n",
    "t, w, u = z0\n",
    "M = 10\n",
    "p = w[::M, 0:2]\n",
    "pl = SplinePath(p)"
   ]
  },
  {
   "cell_type": "code",
   "execution_count": 4,
   "metadata": {},
   "outputs": [],
   "source": [
    "s = np.linspace(0, pl.length, 100)\n",
    "\n",
    "plt.figure(10, clear=True)\n",
    "plt.plot(pl.x(s), pl.y(s))\n",
    "plt.plot(p[:, 0], p[:, 1], 'rx')\n",
    "plt.xlabel('x [m]')\n",
    "plt.ylabel('y [m]')\n",
    "plt.title('Path from simple controller')\n",
    "plt.axis('square')\n",
    "\n",
    "plt.figure(11, clear=True)\n",
    "plt.subplot(1, 2, 1)\n",
    "plt.plot(t, u[:, 0]*180/np.pi)\n",
    "plt.xlabel('t [s]')\n",
    "plt.ylabel('steer [deg]')\n",
    "plt.title('Steer')\n",
    "\n",
    "plt.subplot(1, 2, 2)\n",
    "plt.plot(t, u[:, 1])\n",
    "plt.xlabel('t [s]')\n",
    "plt.ylabel('acceleration [m/s^2]')\n",
    "plt.title('Acceleration')\n",
    "plt.tight_layout()\n",
    "\n"
   ]
  },
  {
   "cell_type": "markdown",
   "metadata": {},
   "source": [
    "# Pure pursuit controller"
   ]
  },
  {
   "cell_type": "code",
   "execution_count": 5,
   "metadata": {},
   "outputs": [],
   "source": [
    "class PurePursuitController(ControllerBase):\n",
    "    def __init__(self, l, L, path=None, goal_tol=1):\n",
    "        super().__init__()\n",
    "        self.plan = path\n",
    "        self.l = l\n",
    "        self.L = L\n",
    "        self.s = 0\n",
    "        self.goal_tol = goal_tol\n",
    "        \n",
    "    def pursuit_point(self, p_car):\n",
    "        # p_car - position of vehicle\n",
    "        path_points = self.plan.path  # Points on the path\n",
    "        l = self.l  # Pure-pursuit look-ahead\n",
    "        \n",
    "        p_purepursuit = [0, 0]\n",
    "        \n",
    "        substitution_point = path_points[0]\n",
    "        # we get the latest point in a radius l (error +-10%), if we don't get one we take the closest to the position of the car   \n",
    "        for i in range(len(path_points)-1):\n",
    "            if np.sqrt((path_points[i,0]-p_car[0])**2+(path_points[i,1]-p_car[1])**2)<=l+0.1*l and np.sqrt((path_points[i,0]-p_car[0])**2+(path_points[i,1]-p_car[1])**2)>=l-0.1*l:\n",
    "                p_purepursuit = path_points[i]      \n",
    "            elif np.linalg.norm(p_purepursuit)==0 and np.sqrt((path_points[i,0]-p_car[0])**2+(path_points[i,1]-p_car[1])**2) <= np.linalg.norm(substitution_point-p_car):\n",
    "                    substitution_point = path_points[i]\n",
    "                    \n",
    "        if np.linalg.norm(p_purepursuit)==0:\n",
    "            p_purepursuit = substitution_point\n",
    "        \n",
    "        return p_purepursuit\n",
    "    \n",
    "    def pure_pursuit_control(self, dp, theta):\n",
    "        # dp - vector p_purepursuit - p_car\n",
    "        # theta - heading of vehicle\n",
    "        x=dp.dot([np.sin(theta), -np.cos(theta)])\n",
    "        l=self.l\n",
    "        delta = -np.arctan2(opts['L']*2*x,l**2)\n",
    "        return delta\n",
    "\n",
    "    def u(self, t, w):\n",
    "        x, y, theta, v = w\n",
    "        p_car = np.array([x, y])\n",
    "        # Your code here to compute steering angle, use the functions\n",
    "        # obj.pursuit_point() and obj.pure_pursuit_control() you \n",
    "        # have written above. - D\n",
    "        p_pursuit=self.pursuit_point(p_car)\n",
    "        acc = 0\n",
    "        delta = self.pure_pursuit_control(p_pursuit-p_car,theta)\n",
    "        return np.array([delta, acc])\n",
    "    \n",
    "    def run(self, t, w):\n",
    "        # Function that returns true until goal is reached\n",
    "        p_goal = self.plan.plan[-1, :]\n",
    "        p_car = w[0:2]\n",
    "        dp = p_car - p_goal\n",
    "        dist = dp.dot(dp)        \n",
    "        \n",
    "        return dist > self.goal_tol"
   ]
  },
  {
   "cell_type": "code",
   "execution_count": 6,
   "metadata": {},
   "outputs": [
    {
     "name": "stdout",
     "output_type": "stream",
     "text": [
      "0.4090869426727295\n"
     ]
    }
   ],
   "source": [
    "car = SingleTrackModel()\n",
    "pp_controller = PurePursuitController(l=4, L=car.L, path=SplinePath(p))\n",
    "car.controller = pp_controller\n",
    "\n",
    "w0 = [15, 30, np.pi/2, 2]\n",
    "t = Timer()\n",
    "t.tic()\n",
    "z1 = car.simulate(w0, T=40, dt=0.1, t0=0.0)\n",
    "T1=t.toc()\n",
    "print(T1)\n",
    "\n",
    "t, w, u = z1"
   ]
  },
  {
   "cell_type": "code",
   "execution_count": 7,
   "metadata": {},
   "outputs": [],
   "source": [
    "M = 10\n",
    "p1 = w[::M, 0:2]\n",
    "pl1 = SplinePath(p)\n",
    "\n",
    "s1 = np.linspace(0, pl.length, 100)\n",
    "\n",
    "plt.figure(100, clear=True)\n",
    "plt.plot(pl1.x(s), pl1.y(s))\n",
    "plt.plot(p1[:, 0], p1[:, 1], 'rx')\n",
    "plt.xlabel('x [m]')\n",
    "plt.ylabel('y [m]')\n",
    "plt.title('Path from pure pursuit')\n",
    "plt.axis('square')\n",
    "\n",
    "plt.figure(101, clear=True)\n",
    "plt.subplot(1, 2, 1)\n",
    "plt.plot(t, u[:, 0]*180/np.pi)\n",
    "plt.xlabel('t [s]')\n",
    "plt.ylabel('steer [deg]')\n",
    "plt.title('Steer')\n",
    "\n",
    "plt.subplot(1, 2, 2)\n",
    "plt.plot(t, u[:, 1])\n",
    "plt.xlabel('t [s]')\n",
    "plt.ylabel('acceleration [m/s^2]')\n",
    "plt.title('Acceleration')\n",
    "plt.tight_layout()\n",
    "\n"
   ]
  },
  {
   "cell_type": "markdown",
   "metadata": {},
   "source": [
    "# State feedback controller based on the linearized path"
   ]
  },
  {
   "cell_type": "markdown",
   "metadata": {},
   "source": [
    "Implement linear and non-linear state feedback control."
   ]
  },
  {
   "cell_type": "code",
   "execution_count": 8,
   "metadata": {},
   "outputs": [],
   "source": [
    "class StateFeedbackController(ControllerBase):\n",
    "    def __init__(self, K, L, path=None, goal_tol=1):\n",
    "        super().__init__()\n",
    "        self.plan = path\n",
    "        self.K = K\n",
    "        self.goal_tol = goal_tol\n",
    "        self.d = []\n",
    "        self.L = L\n",
    "        self.s0 = 0;\n",
    "\n",
    "    def heading_error(self, theta, s):\n",
    "        \"\"\"Compute theta error\n",
    "        Inputs\n",
    "            theta - current heading angle\n",
    "            s - projection point on path\n",
    "            \n",
    "        Outputs\n",
    "            theta_e - heading error angle\n",
    "        \"\"\"\n",
    "        \n",
    "        [hs, nc] = pl.heading(s)\n",
    "        \n",
    "        h_x=np.cos(theta)\n",
    "        h_y=np.sin(theta)\n",
    "        h=[h_x, h_y]\n",
    "        \n",
    "        crossRes=np.cross(hs,h)\n",
    "        dotRes=np.dot(hs,h)\n",
    "        theta_e=np.arctan2(crossRes,dotRes)\n",
    "        \n",
    "        return theta_e\n",
    "\n",
    "    def u(self, t, w):\n",
    "        x, y, theta, v = w\n",
    "        p_car = w[0:2]\n",
    "        u0=0\n",
    "\n",
    "        # Compute d and theta_e errors. Use the SplinePath method project\n",
    "        # and the obj.heading_error() function you've written above\n",
    "        \n",
    "        s0= self.s0\n",
    "        s_proj, dLinear = self.plan.project(p_car,s0,1,20)\n",
    "        self.s0=s_proj\n",
    "        theta_e = self.heading_error(theta,self.s0)\n",
    "\n",
    "        if theta_e==0:\n",
    "            dNonLinear = 0 #linear\n",
    "        else:\n",
    "            dNonLinear = np.sin(theta_e)*dLinear/theta_e #Non-linear\n",
    "\n",
    "        \n",
    "        Control=u0-self.K[0]*dLinear-self.K[1]*theta_e\n",
    "        #Control=u0-self.K[0]*dNonLinear-self.K[1]*theta_e\n",
    "        # Compute control signal delta\n",
    "        acc = 0  # Constant speed\n",
    "        delta = np.arctan(Control*self.L)  # Steering angle\n",
    "        \n",
    "        return np.array([delta, acc])\n",
    "    \n",
    "    def run(self, t, w):\n",
    "        p_goal = self.plan.path[-1, :]\n",
    "        p_car = w[0:2]\n",
    "        dp = p_car - p_goal\n",
    "        dist = np.sqrt(dp.dot(dp))\n",
    "        if dist < self.goal_tol:\n",
    "            return False\n",
    "        else:\n",
    "            return True"
   ]
  },
  {
   "cell_type": "code",
   "execution_count": 9,
   "metadata": {},
   "outputs": [
    {
     "name": "stdout",
     "output_type": "stream",
     "text": [
      "0.9032299518585205\n"
     ]
    }
   ],
   "source": [
    "car = SingleTrackModel()\n",
    "\n",
    "\n",
    "pp_controllerLinear = StateFeedbackController(K=[5,1], L=car.L, path=SplinePath(p))\n",
    "car.controller = pp_controllerLinear\n",
    "\n",
    "w0 = (0,0,0,2)\n",
    "t = Timer()\n",
    "t.tic()\n",
    "z2 = car.simulate(w0, T=40, dt=0.1, t0=0.0)\n",
    "T2=t.toc()\n",
    "print(T2)\n",
    "\n",
    "t, w, u = z2"
   ]
  },
  {
   "cell_type": "code",
   "execution_count": 10,
   "metadata": {},
   "outputs": [],
   "source": [
    "M = 10\n",
    "p2 = w[::M, 0:2]\n",
    "pl2 = SplinePath(p)\n",
    "\n",
    "s2 = np.linspace(0, pl.length, 100)\n",
    "\n",
    "plt.figure(200, clear=True)\n",
    "plt.plot(pl2.x(s), pl2.y(s))\n",
    "plt.plot(p2[:, 0], p2[:, 1], 'rx')\n",
    "plt.xlabel('x [m]')\n",
    "plt.ylabel('y [m]')\n",
    "plt.title('Path from Linear/Non Linear State Feedback')\n",
    "plt.axis('square')\n",
    "\n",
    "plt.figure(201, clear=True)\n",
    "plt.subplot(1, 2, 1)\n",
    "plt.plot(t, u[:, 0]*180/np.pi)\n",
    "plt.xlabel('t [s]')\n",
    "plt.ylabel('steer [deg]')\n",
    "plt.title('Steer')\n",
    "\n",
    "plt.subplot(1, 2, 2)\n",
    "plt.plot(t, u[:, 1])\n",
    "plt.xlabel('t [s]')\n",
    "plt.ylabel('acceleration [m/s^2]')\n",
    "plt.title('Acceleration')\n",
    "plt.tight_layout()\n"
   ]
  },
  {
   "cell_type": "code",
   "execution_count": null,
   "metadata": {},
   "outputs": [],
   "source": []
  }
 ],
 "metadata": {
  "kernelspec": {
   "display_name": "Python 3",
   "language": "python",
   "name": "python3"
  },
  "language_info": {
   "codemirror_mode": {
    "name": "ipython",
    "version": 3
   },
   "file_extension": ".py",
   "mimetype": "text/x-python",
   "name": "python",
   "nbconvert_exporter": "python",
   "pygments_lexer": "ipython3",
   "version": "3.8.5"
  }
 },
 "nbformat": 4,
 "nbformat_minor": 4
}
