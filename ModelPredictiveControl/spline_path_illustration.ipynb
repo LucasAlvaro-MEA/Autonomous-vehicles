{
 "cells": [
  {
   "cell_type": "code",
   "execution_count": 1,
   "metadata": {},
   "outputs": [],
   "source": [
    "import numpy as np\n",
    "import matplotlib.pyplot as plt\n",
    "from vehiclecontrol import ControllerBase, SingleTrackModel\n",
    "from splinepath import SplinePath\n",
    "#from misc import BoxOff\n",
    "import enum\n",
    "from scipy.linalg import solve_continuous_are, solve_discrete_are\n",
    "import warnings\n",
    "from scipy.optimize import brenth"
   ]
  },
  {
   "cell_type": "code",
   "execution_count": 2,
   "metadata": {},
   "outputs": [
    {
     "name": "stdout",
     "output_type": "stream",
     "text": [
      "Using matplotlib backend: TkAgg\n"
     ]
    }
   ],
   "source": [
    "%matplotlib"
   ]
  },
  {
   "cell_type": "markdown",
   "metadata": {},
   "source": [
    "# Generate a path"
   ]
  },
  {
   "cell_type": "code",
   "execution_count": 3,
   "metadata": {},
   "outputs": [],
   "source": [
    "class MiniController(ControllerBase):\n",
    "    def __init__(self):\n",
    "        super().__init__()\n",
    "    \n",
    "    def u(self, t, w):\n",
    "        a = 0.0\n",
    "        if t < 10:\n",
    "            u = [np.pi/180*10, a]\n",
    "        elif t >= 10 and t < 20:\n",
    "            u = [-np.pi/180*11, a]\n",
    "        elif t >= 20 and t < 23:\n",
    "            u = [-np.pi/180*0, a]\n",
    "        elif t >= 23 and t < 40:\n",
    "            u = [-np.pi/180*15, a]\n",
    "        else:\n",
    "            u = [-np.pi/180*0, a]\n",
    "        return u\n",
    "\n",
    "opts = {'L': 2, \n",
    "        'amax': np.inf,\n",
    "        'amin': -np.inf,\n",
    "        'deltamax': np.pi/3,\n",
    "        'deltamin': -np.pi/3}\n",
    "\n",
    "car = SingleTrackModel().set_attributes(opts)\n",
    "car.Ts = 0.1\n",
    "car.controller = MiniController()\n",
    "w0 = np.array([0, 0, 0, 2])\n",
    "z0 = car.simulate(w0, T=40, dt=0.1, t0=0.0)\n",
    "t, w, u = z0\n",
    "M = 10\n",
    "p = w[::M, 0:2]"
   ]
  },
  {
   "cell_type": "code",
   "execution_count": 4,
   "metadata": {},
   "outputs": [
    {
     "data": {
      "text/plain": [
       "[<matplotlib.lines.Line2D at 0x1b1768e0>]"
      ]
     },
     "execution_count": 4,
     "metadata": {},
     "output_type": "execute_result"
    }
   ],
   "source": [
    "plt.figure(10, clear=True)\n",
    "plt.plot(p[:, 0], p[:, 1], 'rx')"
   ]
  },
  {
   "cell_type": "markdown",
   "metadata": {},
   "source": [
    "# Plot path and properties"
   ]
  },
  {
   "cell_type": "code",
   "execution_count": 5,
   "metadata": {},
   "outputs": [
    {
     "name": "stdout",
     "output_type": "stream",
     "text": [
      "Path length: 79.84 m\n"
     ]
    }
   ],
   "source": [
    "pl = SplinePath(p)\n",
    "print(f'Path length: {pl.length:.2f} m')"
   ]
  },
  {
   "cell_type": "markdown",
   "metadata": {},
   "source": [
    "With the SplinePath object, you can treat the path as a continuous function"
   ]
  },
  {
   "cell_type": "code",
   "execution_count": 6,
   "metadata": {},
   "outputs": [],
   "source": [
    "s = np.linspace(0, pl.length, 100)\n",
    "plt.figure(20, clear=True)\n",
    "\n",
    "_ = plt.plot(pl.x(s), pl.y(s), 'r')"
   ]
  },
  {
   "cell_type": "markdown",
   "metadata": {},
   "source": [
    "Plot curvature"
   ]
  },
  {
   "cell_type": "code",
   "execution_count": 7,
   "metadata": {},
   "outputs": [],
   "source": [
    "plt.figure(21, clear=True)\n",
    "_ = plt.plot(s, pl.c(s), 'b')"
   ]
  },
  {
   "cell_type": "code",
   "execution_count": 8,
   "metadata": {},
   "outputs": [
    {
     "name": "stdout",
     "output_type": "stream",
     "text": [
      "Tangent: [0.63649876 0.77127773]\n",
      "Normal: [-0.77127773  0.63649876]\n"
     ]
    }
   ],
   "source": [
    "s0 = 10\n",
    "tangent, normal = pl.heading(s0)\n",
    "print(f'Tangent: {tangent}')\n",
    "print(f'Normal: {normal}')\n"
   ]
  },
  {
   "cell_type": "code",
   "execution_count": 9,
   "metadata": {},
   "outputs": [],
   "source": [
    "L = 5  # Arrow length\n",
    "plt.figure(21, clear=True)\n",
    "_ = plt.plot(pl.x(s), pl.y(s), 'b')\n",
    "plt.plot(pl.x(s0), pl.y(s0), 'ro')\n",
    "_ = plt.arrow(pl.x(s0), pl.y(s0), L*tangent[0], L*tangent[1], width=0.30)\n",
    "_ = plt.arrow(pl.x(s0), pl.y(s0), L*normal[0], L*normal[1], width=0.15)"
   ]
  },
  {
   "cell_type": "markdown",
   "metadata": {},
   "source": [
    "# Projection"
   ]
  },
  {
   "cell_type": "code",
   "execution_count": 10,
   "metadata": {},
   "outputs": [
    {
     "data": {
      "text/plain": [
       "[<matplotlib.lines.Line2D at 0x1d621250>]"
      ]
     },
     "execution_count": 10,
     "metadata": {},
     "output_type": "execute_result"
    }
   ],
   "source": [
    "p0 = [17, 15]\n",
    "plt.figure(22, clear=True)\n",
    "_ = plt.plot(pl.x(s), pl.y(s), 'b')\n",
    "plt.plot(p0[0], p0[1], 'ko')"
   ]
  },
  {
   "cell_type": "code",
   "execution_count": 11,
   "metadata": {},
   "outputs": [
    {
     "ename": "TypeError",
     "evalue": "'numpy.float64' object is not callable",
     "output_type": "error",
     "traceback": [
      "\u001b[1;31m---------------------------------------------------------------------------\u001b[0m",
      "\u001b[1;31mTypeError\u001b[0m                                 Traceback (most recent call last)",
      "\u001b[1;32m<ipython-input-11-d9ec55975f0a>\u001b[0m in \u001b[0;36m<module>\u001b[1;34m\u001b[0m\n\u001b[0;32m      1\u001b[0m \u001b[0mpl\u001b[0m\u001b[1;33m.\u001b[0m\u001b[0mproject\u001b[0m\u001b[1;33m(\u001b[0m\u001b[0mp0\u001b[0m\u001b[1;33m,\u001b[0m \u001b[1;36m0\u001b[0m\u001b[1;33m)\u001b[0m\u001b[1;33m\u001b[0m\u001b[1;33m\u001b[0m\u001b[0m\n\u001b[1;32m----> 2\u001b[1;33m \u001b[0mprint\u001b[0m\u001b[1;33m(\u001b[0m\u001b[1;34mf'Path length: {pl.length(p0):.2f} m'\u001b[0m\u001b[1;33m)\u001b[0m\u001b[1;33m\u001b[0m\u001b[1;33m\u001b[0m\u001b[0m\n\u001b[0m",
      "\u001b[1;31mTypeError\u001b[0m: 'numpy.float64' object is not callable"
     ]
    }
   ],
   "source": [
    "pl.project(p0, 0)"
   ]
  },
  {
   "cell_type": "code",
   "execution_count": null,
   "metadata": {},
   "outputs": [],
   "source": [
    "p0 = [17, 15]\n",
    "#s_proj, _ = pl.project(p0, 70)\n",
    "s_proj, _ = pl.project(p0, 20)\n",
    "\n",
    "plt.figure(22, clear=True)\n",
    "_ = plt.plot(pl.x(s), pl.y(s), 'b')\n",
    "plt.plot(p0[0], p0[1], 'ko')\n",
    "plt.plot(pl.x(s_proj), pl.y(s_proj), 'ro')\n",
    "plt.plot([p0[0], pl.x(s_proj)], [p0[1], pl.y(s_proj)], 'k--')"
   ]
  },
  {
   "cell_type": "code",
   "execution_count": null,
   "metadata": {},
   "outputs": [],
   "source": []
  }
 ],
 "metadata": {
  "kernelspec": {
   "display_name": "Python 3",
   "language": "python",
   "name": "python3"
  },
  "language_info": {
   "codemirror_mode": {
    "name": "ipython",
    "version": 3
   },
   "file_extension": ".py",
   "mimetype": "text/x-python",
   "name": "python",
   "nbconvert_exporter": "python",
   "pygments_lexer": "ipython3",
   "version": "3.8.5"
  }
 },
 "nbformat": 4,
 "nbformat_minor": 4
}
