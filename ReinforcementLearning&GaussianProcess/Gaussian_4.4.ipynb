{
 "cells": [
  {
   "cell_type": "markdown",
   "metadata": {},
   "source": [
    "# TSFS12 Hand-in exercise 5: Learning for autonomous vehicles - Gaussian Processes"
   ]
  },
  {
   "cell_type": "markdown",
   "metadata": {},
   "source": [
    "This exercise is based on data from the I-80 data set from the U.S. Department of Transportation. The data can be downloaded from the course directory in \n",
    "Lisam, and are available in the directory /courses/tsfs12/i80_data in the student labs at campus. \n",
    "\n",
    "I-80 data set citation: U.S. Department of Transportation Federal Highway Administration. (2016). Next Generation Simulation (NGSIM) Vehicle\n",
    "Trajectories and Supporting Data. [Dataset]. Provided by ITS DataHub through Data.transportation.gov. Accessed 2020-09-29 from http://doi.org/10.21949/1504477. More details about the data set are \n",
    "available through this link.  "
   ]
  },
  {
   "cell_type": "markdown",
   "metadata": {},
   "source": [
    "A simplified version of the method presented in Tiger, M., & F. Heintz: ''_Online sparse Gaussian process regression for trajectory modeling_''. International Conference on Information Fusion (FUSION), pp. 782-791, 2015, is used in the exercise."
   ]
  },
  {
   "cell_type": "markdown",
   "metadata": {},
   "source": [
    "Initial imports"
   ]
  },
  {
   "cell_type": "code",
   "execution_count": 1,
   "metadata": {},
   "outputs": [],
   "source": [
    "import numpy as np\n",
    "import pandas as pd\n",
    "import matplotlib.pyplot as plt\n",
    "from sklearn.gaussian_process import GaussianProcessRegressor\n",
    "from sklearn.gaussian_process.kernels import RBF, WhiteKernel\n",
    "from scipy.stats import norm\n",
    "from i80_utility import load_i80_gp_dataset, plot_road\n",
    "from scipy.interpolate import interp1d\n",
    "import math"
   ]
  },
  {
   "cell_type": "code",
   "execution_count": 2,
   "metadata": {},
   "outputs": [
    {
     "name": "stdout",
     "output_type": "stream",
     "text": [
      "Using matplotlib backend: TkAgg\n"
     ]
    }
   ],
   "source": [
    "%matplotlib"
   ]
  },
  {
   "cell_type": "markdown",
   "metadata": {},
   "source": [
    "# Some auxiliary functions"
   ]
  },
  {
   "cell_type": "markdown",
   "metadata": {},
   "source": [
    "Some auxiliary functions needed. You are not required to modify these."
   ]
  },
  {
   "cell_type": "code",
   "execution_count": 3,
   "metadata": {},
   "outputs": [],
   "source": [
    "def soft_max(z):\n",
    "    r = np.exp(z)\n",
    "    return r / np.sum(r)\n",
    "\n",
    "def gp_score(y_pred, y_true):\n",
    "    return 1 - np.sum((y_true - y_pred)**2) / np.sum((y_true - np.mean(y_true))**2)\n",
    "\n",
    "def predict_scenario_score(gp_x, gp_y, s, x, y, lane):\n",
    "    score = []\n",
    "    N_paths = len(s)\n",
    "    for target_lane in range(6):\n",
    "        scenario_index = [k for k in range(N_paths) if \n",
    "                          (lane[k][0] == 6 and lane[k][-1] == target_lane and\n",
    "                           np.all(np.diff(s[k]) > 1e-4))]\n",
    "        if len(scenario_index) > 0:\n",
    "            tracks_s = np.array([s[k].reshape(-1, 1) for k in scenario_index])\n",
    "            tracks_x = [x[k].reshape(-1, 1) for k in scenario_index]\n",
    "            tracks_y = [y[k].reshape(-1, 1) for k in scenario_index]\n",
    "            lane_id = [lane[k] for k in scenario_index]\n",
    "            score.append(np.mean([np.mean((gp_score(gp_x.predict(si), xi), \n",
    "                                           gp_score(gp_y.predict(si), yi)))\n",
    "                             for si, xi, yi in zip(tracks_s, tracks_x, tracks_y)]))\n",
    "        else:\n",
    "            score.append(0.0)\n",
    "    return score"
   ]
  },
  {
   "cell_type": "markdown",
   "metadata": {},
   "source": [
    "# Load driver paths from I-80 data set"
   ]
  },
  {
   "cell_type": "code",
   "execution_count": 4,
   "metadata": {},
   "outputs": [],
   "source": [
    "i80_data_dir = './'  # data downloaded in the current directory\n",
    "# i80_data_dir = '/courses/tsfs12/'  # student labs"
   ]
  },
  {
   "cell_type": "code",
   "execution_count": 5,
   "metadata": {},
   "outputs": [],
   "source": [
    "tracks_s_I80, tracks_x_I80, tracks_y_I80, lane_id_I80, N_paths = load_i80_gp_dataset(i80_data_dir)"
   ]
  },
  {
   "cell_type": "code",
   "execution_count": 6,
   "metadata": {},
   "outputs": [],
   "source": [
    "colors = plt.rcParams['axes.prop_cycle'].by_key()['color']\n",
    "plt.figure(10, clear=True)\n",
    "for x, y, l in zip(tracks_x_I80, tracks_y_I80, lane_id_I80):\n",
    "    plt.plot(x, y, color=colors[l[0]], lw=0.5)\n",
    "plot_road()\n",
    "plt.xlabel('x [m]')\n",
    "_ = plt.ylabel('y [m]')"
   ]
  },
  {
   "cell_type": "markdown",
   "metadata": {},
   "source": [
    "# Extract paths corresponding to specific lane-change scenario"
   ]
  },
  {
   "cell_type": "code",
   "execution_count": 7,
   "metadata": {},
   "outputs": [],
   "source": [
    "init_lane =  6  # Initial lane, the on-ramp is 6\n",
    "final_lane = 5  # Final lane (0-5), counted from left to right"
   ]
  },
  {
   "cell_type": "code",
   "execution_count": 8,
   "metadata": {},
   "outputs": [],
   "source": [
    "scenario_index = [k for k in range(N_paths) if \n",
    "                  (lane_id_I80[k][0] == init_lane and lane_id_I80[k][-1] == final_lane and\n",
    "                   np.all(np.diff(tracks_s_I80[k]) > 1e-4))]\n",
    "tracks_s = [tracks_s_I80[k] for k in scenario_index]\n",
    "tracks_x = [tracks_x_I80[k] for k in scenario_index]\n",
    "tracks_y = [tracks_y_I80[k] for k in scenario_index]\n",
    "lane_id = [lane_id_I80[k] for k in scenario_index]\n",
    "N_paths_gp = len(scenario_index)\n",
    "if N_paths_gp == 0:\n",
    "    print(\"No paths with specified lane change exist.\")"
   ]
  },
  {
   "cell_type": "markdown",
   "metadata": {},
   "source": [
    "# Create test and traing data sets"
   ]
  },
  {
   "cell_type": "code",
   "execution_count": 9,
   "metadata": {},
   "outputs": [],
   "source": [
    "rg = np.random.default_rng(seed=1891)"
   ]
  },
  {
   "cell_type": "code",
   "execution_count": 10,
   "metadata": {},
   "outputs": [],
   "source": [
    "N_samples_gp = 8\n",
    "s_train = []\n",
    "x_train = []\n",
    "y_train = []\n",
    "for k in range(N_paths_gp):\n",
    "    s0 = np.hstack((0, rg.uniform(size=N_samples_gp - 2), 1))\n",
    "    s_train.append(s0)\n",
    "    x_train.append(interp1d(tracks_s[k], tracks_x[k])(s0))\n",
    "    y_train.append(interp1d(tracks_s[k], tracks_y[k])(s0))\n",
    "s_train = np.array(s_train).reshape(-1, 1)\n",
    "x_train = np.array(x_train).reshape(-1, 1)\n",
    "y_train = np.array(y_train).reshape(-1, 1)\n"
   ]
  },
  {
   "cell_type": "markdown",
   "metadata": {},
   "source": [
    "# Learn the gaussian process models for driver behavior"
   ]
  },
  {
   "cell_type": "code",
   "execution_count": 11,
   "metadata": {},
   "outputs": [
    {
     "name": "stdout",
     "output_type": "stream",
     "text": [
      "{'k1': 1**2 * RBF(length_scale=110), 'k2': WhiteKernel(noise_level=10), 'k1__k1': 1**2, 'k1__k2': RBF(length_scale=110), 'k1__k1__constant_value': 1.0, 'k1__k1__constant_value_bounds': (1e-05, 100000.0), 'k1__k2__length_scale': 110.0, 'k1__k2__length_scale_bounds': (0.01, 1000.0), 'k2__noise_level': 10, 'k2__noise_level_bounds': (1e-10, 1000.0)}\n"
     ]
    }
   ],
   "source": [
    "kernel = 1.0 * RBF(length_scale=110.0, length_scale_bounds=(1e-2, 1e3)) + WhiteKernel(noise_level=10, noise_level_bounds=(1e-10, 1e+3)) \n",
    "#The lengthscale ℓ determines the length of the 'wiggles' in ou function\n",
    "#WhiteKernel explains the noise of the signal as independently and identically normally-distributed\n",
    "gpr_x = GaussianProcessRegressor(kernel=kernel, random_state=1891, alpha=1e-5).fit(s_train, x_train)\n",
    "gpr_y = GaussianProcessRegressor(kernel=kernel, random_state=1891, alpha=1e-5).fit(s_train, y_train)\n",
    "hyperparam=kernel.get_params()\n",
    "print(hyperparam)"
   ]
  },
  {
   "cell_type": "code",
   "execution_count": 12,
   "metadata": {},
   "outputs": [
    {
     "name": "stdout",
     "output_type": "stream",
     "text": [
      "Score for fit_x: 0.950\n",
      "Score for fit_y: 0.999\n"
     ]
    }
   ],
   "source": [
    "print(f\"Score for fit_x: {gp_score(gpr_x.predict(s_train), x_train):.3f}\")\n",
    "print(f\"Score for fit_y: {gp_score(gpr_y.predict(s_train), y_train):.3f}\")"
   ]
  },
  {
   "cell_type": "markdown",
   "metadata": {},
   "source": [
    "# Predict, plot, and evaluate models"
   ]
  },
  {
   "cell_type": "markdown",
   "metadata": {},
   "source": [
    "In this section, predict, plot, and evaluate your gaussian process models."
   ]
  },
  {
   "cell_type": "code",
   "execution_count": 13,
   "metadata": {},
   "outputs": [],
   "source": [
    "# YOUR_CODE_HERE\n",
    "x_pred, sigma1 = gpr_x.predict(s_train, return_std=True)\n",
    "y_pred, sigma2 = gpr_y.predict(s_train, return_std=True)\n",
    "plt.plot(x_pred, y_pred, linewidth=0.5, color='lawngreen')\n",
    "plt.xlabel('mean of the predicted X')\n",
    "plt.ylabel('mean of the predicted Y')\n",
    "\n",
    "cmpt=math.floor((len(x_pred)/10))\n",
    "for j in range(cmpt):\n",
    "      for i in range(len(sigma1)):    \n",
    "            phi = np.linspace(0,2*np.pi,50)\n",
    "            plt.plot(x_pred[j*10]+2*sigma1[i]*np.cos(phi),y_pred[j*10]+2*sigma2[i]*np.sin(phi), color='black', linewidth=0.2)\n",
    "\n",
    "plt.show()"
   ]
  },
  {
   "cell_type": "markdown",
   "metadata": {},
   "source": [
    "# Compute prediction of lane-change class"
   ]
  },
  {
   "cell_type": "code",
   "execution_count": null,
   "metadata": {},
   "outputs": [],
   "source": []
  }
 ],
 "metadata": {
  "kernelspec": {
   "display_name": "Python 3",
   "language": "python",
   "name": "python3"
  },
  "language_info": {
   "codemirror_mode": {
    "name": "ipython",
    "version": 3
   },
   "file_extension": ".py",
   "mimetype": "text/x-python",
   "name": "python",
   "nbconvert_exporter": "python",
   "pygments_lexer": "ipython3",
   "version": "3.8.5"
  }
 },
 "nbformat": 4,
 "nbformat_minor": 4
}
