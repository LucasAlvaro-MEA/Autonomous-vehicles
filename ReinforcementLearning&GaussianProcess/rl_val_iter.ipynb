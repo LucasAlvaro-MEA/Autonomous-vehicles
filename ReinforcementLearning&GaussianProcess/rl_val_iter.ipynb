{
 "cells": [
  {
   "cell_type": "markdown",
   "metadata": {},
   "source": [
    "# TSFS12 Hand-in exercise 5: Learning for autonomous vehicles - Reinforcement learning and value iterations"
   ]
  },
  {
   "cell_type": "markdown",
   "metadata": {},
   "source": [
    "Initial imports"
   ]
  },
  {
   "cell_type": "code",
   "execution_count": 1,
   "metadata": {},
   "outputs": [],
   "source": [
    "import matplotlib.pyplot as plt\n",
    "import numpy as np\n",
    "from rl_auxiliary import V_update, plot_iter, BoxOff"
   ]
  },
  {
   "cell_type": "code",
   "execution_count": 2,
   "metadata": {},
   "outputs": [
    {
     "name": "stdout",
     "output_type": "stream",
     "text": [
      "Using matplotlib backend: TkAgg\n"
     ]
    }
   ],
   "source": [
    "%matplotlib"
   ]
  },
  {
   "cell_type": "markdown",
   "metadata": {},
   "source": [
    "# Parameters in value iterations"
   ]
  },
  {
   "cell_type": "code",
   "execution_count": 3,
   "metadata": {},
   "outputs": [],
   "source": [
    "gamma = 0.99\n",
    "R_goal = 0.0 # Reward for reaching goal state\n",
    "R_sink = -10.0  # Reward for reaching 'cliff' states\n",
    "R_grid = -0.10 # Reward for remaining states\n",
    "\n",
    "P_move_action = 0.99  # probability of moving in the direction specified by action\n",
    "P_dist = (1-P_move_action)/2  # probability of moving sideways compared to intended because of disturbance\n",
    "\n",
    "n_rows = 4\n",
    "n_cols = 5\n",
    "\n",
    "# Set start and goal/sink positions.\n",
    "goal = np.array([3, 4])  # element index goal state\n",
    "sink = np.array([[3, 1], [3, 2], [3, 3]])  # element indices for cliff states\n",
    "\n",
    "# Setup reward matrix R\n",
    "R = np.full((n_rows, n_cols), fill_value=R_grid)\n",
    "R[goal[0], goal[1]] = R_goal\n",
    "R[sink[:, 0], sink[:, 1]] = R_sink\n",
    "\n",
    "occ_grid = np.zeros((n_rows, n_cols))\n",
    "occ_grid[1, 1] = 1\n",
    "\n",
    "# Save parameters in a struct\n",
    "params = {'gamma': gamma, 'R_goal': R_goal, 'R_sink': R_sink, \n",
    "          'R_grid': R_grid, 'P_move_action': P_move_action, \n",
    "          'P_dist': P_dist, 'n_rows': n_rows, 'n_cols': n_cols, \n",
    "          'goal': goal, 'sink': sink, 'R': R, 'occ_grid': occ_grid}"
   ]
  },
  {
   "cell_type": "markdown",
   "metadata": {},
   "source": [
    "# Main loop for value iterations"
   ]
  },
  {
   "cell_type": "markdown",
   "metadata": {},
   "source": [
    "Main loop for value iterations. Press return to proceed to next iteration. Note that plots must be made in an external window, not inline, since value function and policy is updated in the `plot_iter` function call."
   ]
  },
  {
   "cell_type": "code",
   "execution_count": 4,
   "metadata": {},
   "outputs": [
    {
     "name": "stdout",
     "output_type": "stream",
     "text": [
      "[[-0.1        -0.1        -0.1        -0.1        -0.1       ]\n",
      " [-0.1         0.         -0.1        -0.100495   -0.100495  ]\n",
      " [-0.1        -0.100495   -0.19850745 -0.19947776 -0.00198741]\n",
      " [-0.100495    0.          0.          0.          0.        ]]\n",
      "[[ 0  1  1  1  1]\n",
      " [ 3 -1  3  1  1]\n",
      " [ 3  2  2  2  3]\n",
      " [ 0 -1 -1 -1 -1]]\n",
      "Press enter\n"
     ]
    },
    {
     "name": "stdin",
     "output_type": "stream",
     "text": [
      " \n"
     ]
    },
    {
     "name": "stdout",
     "output_type": "stream",
     "text": [
      "[[-0.199      -0.199      -0.199      -0.19900245 -0.19900245]\n",
      " [-0.199       0.         -0.19997766 -0.20046763 -0.10343763]\n",
      " [-0.1994876  -0.20046522 -0.29797782 -0.29796315 -0.00248476]\n",
      " [-0.19998006  0.          0.          0.          0.        ]]\n",
      "[[ 0  1  1  1  1]\n",
      " [ 3 -1  0  1  3]\n",
      " [ 3  2  2  2  3]\n",
      " [ 0 -1 -1 -1 -1]]\n",
      "Press enter\n"
     ]
    },
    {
     "name": "stdin",
     "output_type": "stream",
     "text": [
      " \n"
     ]
    },
    {
     "name": "stdout",
     "output_type": "stream",
     "text": [
      "[[-0.29701    -0.29701    -0.29701724 -0.29701968 -0.20383453]\n",
      " [-0.2974879   0.         -0.29894333 -0.20432439 -0.10395873]\n",
      " [-0.29798023 -0.29942596 -0.39595144 -0.30223059 -0.00250834]\n",
      " [-0.29846536  0.          0.          0.          0.        ]]\n",
      "[[ 0  1  1  1  3]\n",
      " [ 3 -1  0  1  3]\n",
      " [ 3  2  2  2  3]\n",
      " [ 0 -1 -1 -1 -1]]\n",
      "Press enter\n"
     ]
    },
    {
     "name": "stdin",
     "output_type": "stream",
     "text": [
      " \n"
     ]
    },
    {
     "name": "stdout",
     "output_type": "stream",
     "text": [
      "[[-0.3940399  -0.394047   -0.39405899 -0.30225988 -0.20439512]\n",
      " [-0.39499339  0.         -0.30416888 -0.20488218 -0.10398719]\n",
      " [-0.39548304 -0.39738498 -0.40157902 -0.30280526 -0.0025113 ]\n",
      " [-0.39596095  0.          0.          0.          0.        ]]\n",
      "[[ 2  1  1  1  3]\n",
      " [ 0 -1  1  1  3]\n",
      " [ 0  2  2  2  3]\n",
      " [ 0 -1 -1 -1 -1]]\n",
      "Press enter\n"
     ]
    },
    {
     "name": "stdin",
     "output_type": "stream",
     "text": [
      " \n"
     ]
    },
    {
     "name": "stdout",
     "output_type": "stream",
     "text": [
      "[[-0.49009954 -0.49011828 -0.39970113 -0.30283801 -0.20442865]\n",
      " [-0.49151665  0.         -0.30477136 -0.20491578 -0.1039904 ]\n",
      " [-0.49200594 -0.49390027 -0.4026501  -0.3028435  -0.00251151]\n",
      " [-0.49247676  0.          0.          0.          0.        ]]\n",
      "[[ 2  1  1  1  3]\n",
      " [ 0 -1  1  1  3]\n",
      " [ 0  2  2  2  3]\n",
      " [ 0 -1 -1 -1 -1]]\n",
      "Press enter\n"
     ]
    },
    {
     "name": "stdin",
     "output_type": "stream",
     "text": [
      " \n"
     ]
    },
    {
     "name": "stdout",
     "output_type": "stream",
     "text": [
      "[[-0.58519863 -0.49659925 -0.40029867 -0.3028739  -0.20443214]\n",
      " [-0.58706763  0.         -0.30481255 -0.20491929 -0.10399063]\n",
      " [-0.58755671 -0.58897318 -0.40316127 -0.30284948 -0.00251154]\n",
      " [-0.58802264  0.          0.          0.          0.        ]]\n",
      "[[ 2  1  1  1  3]\n",
      " [ 0 -1  1  1  3]\n",
      " [ 3  2  2  2  3]\n",
      " [ 0 -1 -1 -1 -1]]\n",
      "Press enter\n"
     ]
    },
    {
     "name": "stdin",
     "output_type": "stream",
     "text": [
      " \n"
     ]
    },
    {
     "name": "stdout",
     "output_type": "stream",
     "text": [
      "[[-0.59251964 -0.49724906 -0.40033701 -0.30287751 -0.2044324 ]\n",
      " [-0.68122637  0.         -0.30481871 -0.20491957 -0.10399066]\n",
      " [-0.68214481 -0.68262488 -0.40363092 -0.30285207 -0.00251155]\n",
      " [-0.68260832  0.          0.          0.          0.        ]]\n",
      "[[ 1  1  1  1  3]\n",
      " [ 0 -1  1  1  3]\n",
      " [ 3  2  2  2  3]\n",
      " [ 0 -1 -1 -1 -1]]\n",
      "Press enter\n"
     ]
    },
    {
     "name": "stdin",
     "output_type": "stream",
     "text": [
      " \n"
     ]
    },
    {
     "name": "stdout",
     "output_type": "stream",
     "text": [
      "[[-0.59365885 -0.49729307 -0.40034077 -0.30287779 -0.20443243]\n",
      " [-0.68858918  0.         -0.30482133 -0.20491961 -0.10399068]\n",
      " [-0.77535756 -0.77487663 -0.40409014 -0.30285439 -0.00251156]\n",
      " [-0.77624134  0.          0.          0.          0.        ]]\n",
      "[[ 1  1  1  1  3]\n",
      " [ 2 -1  1  1  3]\n",
      " [ 0  2  2  2  3]\n",
      " [ 0 -1 -1 -1 -1]]\n",
      "Press enter\n"
     ]
    },
    {
     "name": "stdin",
     "output_type": "stream",
     "text": [
      " \n"
     ]
    },
    {
     "name": "stdout",
     "output_type": "stream",
     "text": [
      "[[-0.59374406 -0.49729719 -0.40034107 -0.30287783 -0.20443245]\n",
      " [-0.68874559  0.         -0.30482365 -0.20491964 -0.10399069]\n",
      " [-0.78271321 -0.86533126 -0.40454017 -0.30285664 -0.00251157]\n",
      " [-0.86851097  0.          0.          0.          0.        ]]\n",
      "[[ 1  1  1  1  3]\n",
      " [ 2 -1  1  1  3]\n",
      " [ 2  2  2  2  3]\n",
      " [ 0 -1 -1 -1 -1]]\n",
      "Press enter\n"
     ]
    },
    {
     "name": "stdin",
     "output_type": "stream",
     "text": [
      " \n"
     ]
    },
    {
     "name": "stdout",
     "output_type": "stream",
     "text": [
      "[[-0.5937493  -0.49729753 -0.40034112 -0.30287784 -0.20443246]\n",
      " [-0.68875227  0.         -0.3048259  -0.20491966 -0.1039907 ]\n",
      " [-0.78320392 -0.95399051 -0.40498126 -0.30285885 -0.00251158]\n",
      " [-0.95940359  0.          0.          0.          0.        ]]\n",
      "[[ 1  1  1  1  3]\n",
      " [ 2 -1  1  1  3]\n",
      " [ 2  2  2  2  3]\n",
      " [ 0 -1 -1 -1 -1]]\n",
      "Press enter\n"
     ]
    },
    {
     "name": "stdin",
     "output_type": "stream",
     "text": [
      " \n"
     ]
    },
    {
     "name": "stdout",
     "output_type": "stream",
     "text": [
      "[[-0.59374969 -0.49729758 -0.40034115 -0.30287785 -0.20443247]\n",
      " [-0.68875272  0.         -0.3048281  -0.20491968 -0.10399071]\n",
      " [-0.78364565 -1.00114438 -0.40521684 -0.30286003 -0.00251159]\n",
      " [-1.04893955  0.          0.          0.          0.        ]]\n",
      "[[ 1  1  1  1  3]\n",
      " [ 2 -1  1  1  3]\n",
      " [ 2  1  2  2  3]\n",
      " [ 0 -1 -1 -1 -1]]\n",
      "Press enter\n"
     ]
    },
    {
     "name": "stdin",
     "output_type": "stream",
     "text": [
      " \n"
     ]
    },
    {
     "name": "stdout",
     "output_type": "stream",
     "text": [
      "[[-0.59374974 -0.4972976  -0.40034117 -0.30287786 -0.20443248]\n",
      " [-0.68875278  0.         -0.30482929 -0.2049197  -0.10399072]\n",
      " [-0.78388131 -1.00160869 -0.40522031 -0.30286007 -0.00251159]\n",
      " [-1.13713811  0.          0.          0.          0.        ]]\n",
      "[[ 1  1  1  1  3]\n",
      " [ 2 -1  1  1  3]\n",
      " [ 2  1  2  2  3]\n",
      " [ 0 -1 -1 -1 -1]]\n",
      "Press enter\n"
     ]
    },
    {
     "name": "stdin",
     "output_type": "stream",
     "text": [
      " \n"
     ]
    },
    {
     "name": "stdout",
     "output_type": "stream",
     "text": [
      "[[-0.59374977 -0.49729763 -0.40034119 -0.30287787 -0.20443249]\n",
      " [-0.6887528   0.         -0.30482932 -0.2049197  -0.10399072]\n",
      " [-0.7838848  -1.00161439 -0.40522037 -0.30286007 -0.00251159]\n",
      " [-1.22401813  0.          0.          0.          0.        ]]\n",
      "[[ 1  1  1  1  3]\n",
      " [ 2 -1  1  1  3]\n",
      " [ 2  1  2  2  3]\n",
      " [ 0 -1 -1 -1 -1]]\n",
      "Press enter\n"
     ]
    },
    {
     "name": "stdin",
     "output_type": "stream",
     "text": [
      " \n"
     ]
    },
    {
     "name": "stdout",
     "output_type": "stream",
     "text": [
      "[[-0.59374979 -0.49729764 -0.4003412  -0.30287788 -0.20443249]\n",
      " [-0.68875282  0.         -0.30482933 -0.2049197  -0.10399072]\n",
      " [-0.78388486 -1.00161448 -0.40522038 -0.30286007 -0.00251159]\n",
      " [-1.30959929  0.          0.          0.          0.        ]]\n",
      "[[ 1  1  1  1  3]\n",
      " [ 2 -1  1  1  3]\n",
      " [ 2  1  2  2  3]\n",
      " [ 0 -1 -1 -1 -1]]\n",
      "Press enter\n"
     ]
    },
    {
     "name": "stdin",
     "output_type": "stream",
     "text": [
      " \n"
     ]
    },
    {
     "name": "stdout",
     "output_type": "stream",
     "text": [
      "[[-0.59374981 -0.49729765 -0.4003412  -0.30287788 -0.20443249]\n",
      " [-0.68875284  0.         -0.30482933 -0.2049197  -0.10399072]\n",
      " [-0.78388488 -1.00161448 -0.40522038 -0.30286007 -0.00251159]\n",
      " [-1.37426809  0.          0.          0.          0.        ]]\n",
      "[[ 1  1  1  1  3]\n",
      " [ 2 -1  1  1  3]\n",
      " [ 2  1  2  2  3]\n",
      " [ 2 -1 -1 -1 -1]]\n",
      "Press enter\n"
     ]
    },
    {
     "name": "stdin",
     "output_type": "stream",
     "text": [
      " \n"
     ]
    },
    {
     "name": "stdout",
     "output_type": "stream",
     "text": [
      "[[-0.59374982 -0.49729766 -0.4003412  -0.30287788 -0.20443249]\n",
      " [-0.68875285  0.         -0.30482933 -0.2049197  -0.10399072]\n",
      " [-0.78388489 -1.00161448 -0.40522038 -0.30286007 -0.00251159]\n",
      " [-1.37458821  0.          0.          0.          0.        ]]\n",
      "[[ 1  1  1  1  3]\n",
      " [ 2 -1  1  1  3]\n",
      " [ 2  1  2  2  3]\n",
      " [ 2 -1 -1 -1 -1]]\n",
      "Press enter\n"
     ]
    },
    {
     "name": "stdin",
     "output_type": "stream",
     "text": [
      " \n"
     ]
    },
    {
     "name": "stdout",
     "output_type": "stream",
     "text": [
      "[[-0.59374982 -0.49729766 -0.4003412  -0.30287788 -0.20443249]\n",
      " [-0.68875286  0.         -0.30482933 -0.2049197  -0.10399072]\n",
      " [-0.7838849  -1.00161448 -0.40522038 -0.30286007 -0.00251159]\n",
      " [-1.3745898   0.          0.          0.          0.        ]]\n",
      "[[ 1  1  1  1  3]\n",
      " [ 2 -1  1  1  3]\n",
      " [ 2  1  2  2  3]\n",
      " [ 2 -1 -1 -1 -1]]\n",
      "Press enter\n"
     ]
    },
    {
     "name": "stdin",
     "output_type": "stream",
     "text": [
      " \n"
     ]
    },
    {
     "name": "stdout",
     "output_type": "stream",
     "text": [
      "[[-0.59374982 -0.49729766 -0.4003412  -0.30287788 -0.20443249]\n",
      " [-0.68875286  0.         -0.30482933 -0.2049197  -0.10399072]\n",
      " [-0.7838849  -1.00161448 -0.40522038 -0.30286007 -0.00251159]\n",
      " [-1.37458981  0.          0.          0.          0.        ]]\n",
      "[[ 1  1  1  1  3]\n",
      " [ 2 -1  1  1  3]\n",
      " [ 2  1  2  2  3]\n",
      " [ 2 -1 -1 -1 -1]]\n",
      "Press enter\n"
     ]
    },
    {
     "name": "stdin",
     "output_type": "stream",
     "text": [
      " \n"
     ]
    },
    {
     "name": "stdout",
     "output_type": "stream",
     "text": [
      "Convergence!\n"
     ]
    }
   ],
   "source": [
    "# Main loop for value iteration\n",
    "# Algorithm according to Section 4.4 in Sutton, R. S., & A. G. Barto: \n",
    "# Reinforcement learning: An introduction. MIT Press, 2018.\n",
    "\n",
    "# Initilaize value function for each state\n",
    "V = np.zeros((n_rows,n_cols))\n",
    "\n",
    "# Actions - ['left','right','up','down'] counted as 0-3\n",
    "\n",
    "# Initialize vector for policy\n",
    "Pi = np.full((n_rows, n_cols), fill_value=-1)\n",
    "converged = False\n",
    "\n",
    "while not converged:    \n",
    "    \n",
    "    \n",
    "    \n",
    "    \n",
    "    Delta = 0\n",
    "\n",
    "    for row in range(n_rows):\n",
    "        for col in range(n_cols):\n",
    "            if ((occ_grid[row, col] == 1) or \n",
    "               np.all([row, col]==goal) or\n",
    "               np.any(np.logical_and(row==sink[:, 0], col==sink[:, 1]))):\n",
    "                continue\n",
    "            v = V[row, col]\n",
    "            V[row, col], max_a = V_update(row, col, V, params)\n",
    "            \n",
    "            Pi[row, col] = max_a\n",
    "            Delta = np.max((Delta, np.abs(v-V[row, col])))\n",
    "    \n",
    "    # Visualize current value function and associated actions according to\n",
    "    # current policy\n",
    "    plot_iter(V, Pi, params)\n",
    "    print(V)\n",
    "    print(Pi)\n",
    "    print('Press enter')\n",
    "    _ = input()\n",
    "    \n",
    "    \n",
    "    if Delta < 1e-6:\n",
    "        converged = True\n",
    "print('Convergence!')"
   ]
  },
  {
   "cell_type": "code",
   "execution_count": null,
   "metadata": {},
   "outputs": [],
   "source": []
  }
 ],
 "metadata": {
  "kernelspec": {
   "display_name": "Python 3",
   "language": "python",
   "name": "python3"
  },
  "language_info": {
   "codemirror_mode": {
    "name": "ipython",
    "version": 3
   },
   "file_extension": ".py",
   "mimetype": "text/x-python",
   "name": "python",
   "nbconvert_exporter": "python",
   "pygments_lexer": "ipython3",
   "version": "3.8.5"
  }
 },
 "nbformat": 4,
 "nbformat_minor": 4
}
